{
 "cells": [
  {
   "cell_type": "markdown",
   "id": "686f35c7",
   "metadata": {},
   "source": [
    "# 根据论文标题获取固定的引用格式\n",
    "\n",
    "可以避免手动查询，自动化完成任务，但不保证正确~\n",
    "\n",
    "默认查询返回列表中排第一个位置的论文，仅进行了少量测试，此脚本仅供分享交流。\n",
    "\n",
    "食用方法：把需要转换的标题按行排列，复制到titles中，执行此脚本即可。"
   ]
  },
  {
   "cell_type": "code",
   "execution_count": 1,
   "id": "795cda33-3129-4e7d-94b0-be28f82320f1",
   "metadata": {},
   "outputs": [],
   "source": [
    "from lxml import html\n",
    "from urllib.parse import quote_plus, quote, urlencode, parse_qs\n",
    "import requests\n",
    "import json\n",
    "from IPython.display import HTML\n",
    "import time\n",
    "import re\n",
    "\n",
    "# formation in: sc_MLA, sc_APA, sc_GBT7714\n",
    "def query_baidu_xueshu(title, formation='sr_APA'):\n",
    "\n",
    "    headers= {\n",
    "        \"User-Agent\":\"Mozilla/5.0 (iPhone; CPU iPhone OS 16_6 like Mac OS X) AppleWebKit/605.1.15 (KHTML, like Gecko) Version/16.6 Mobile/15E148 Safari/604.1 Edg/119.0.0.0\",\n",
    "        \"Referer\": \"https://xueshu.baidu.com/\"\n",
    "    }\n",
    "    \n",
    "    url = \"https://xueshu.baidu.com/s?\"\n",
    "    params = {\"wd\": title,}\n",
    "    _url = url + urlencode(params)\n",
    "    print(_url)\n",
    "    \n",
    "    page = requests.get(_url, headers=headers)\n",
    "    #print(page.content)\n",
    "    tree = html.fromstring(page.content)\n",
    "    \n",
    "    m = re.search(r\"window.location.replace\\(\\\\'//xueshu.baidu.com/usercenter/paper/show\\?paperid=([a-zA-Z_0-9]*)&\", str(page.content))\n",
    "    \n",
    "    if m is not None:\n",
    "        pid = m.group(0).split('paperid=')[1][:-1]\n",
    "    else:\n",
    "        papers = tree.xpath('//div[@class=\"sc_content\"]/h3/a')\n",
    "        href = papers[0].get('href').split('?', 2)[1]\n",
    "        pid = parse_qs(href)['paperid'][0]\n",
    "    \n",
    "    _url = f\"https://xueshu.baidu.com/u/citation?type=cite&paperid={pid}\"\n",
    "    print(_url)\n",
    "    \n",
    "    cite = requests.get(_url, headers=headers)\n",
    "    #print(cite.text)\n",
    "    \n",
    "    apa = json.loads(cite.text)['data']['formation'][4:]\n",
    "\n",
    "    return apa.replace('#i{', '<i>').replace('}', '</i>')\n"
   ]
  },
  {
   "cell_type": "code",
   "execution_count": 2,
   "id": "02eaea86-6e14-4b48-86f1-fbd572ca7865",
   "metadata": {},
   "outputs": [
    {
     "name": "stdout",
     "output_type": "stream",
     "text": [
      "https://xueshu.baidu.com/s?wd=143ND%2F144ND+AND+87SR%2F86SR+RATIOS+IN+RECENT+MAGMATIC+ROCKS+OF+THE+KURILE+ISLAND+ARC\n",
      "https://xueshu.baidu.com/u/citation?type=cite&paperid=4f38a87a6cbb0fe8469a8e6a76522da2\n"
     ]
    },
    {
     "data": {
      "text/html": [
       "Zhuravlev, D. Z. ,  Tsvetkov, A. ,  Zhuravlev, Z. ,  Gladkov, N. G. , &  Chernyshev, I. V. . 43nd/144nd and 87sr/86sr ratios in recent magmatic rocks of the kurile island arc. <i>Chemical Geology Isotope Geoscience</i><i>,</i> <i>66</i>(3), 227-243."
      ],
      "text/plain": [
       "<IPython.core.display.HTML object>"
      ]
     },
     "execution_count": 2,
     "metadata": {},
     "output_type": "execute_result"
    }
   ],
   "source": [
    "title = '143ND/144ND AND 87SR/86SR RATIOS IN RECENT MAGMATIC ROCKS OF THE KURILE ISLAND ARC'\n",
    "\n",
    "apa = query_baidu_xueshu(title)\n",
    "\n",
    "HTML(apa)"
   ]
  },
  {
   "cell_type": "code",
   "execution_count": 3,
   "id": "7e4662f4-e2e5-480a-a009-950a702ac432",
   "metadata": {},
   "outputs": [],
   "source": [
    "titles = \"\"\"\n",
    "143ND/144ND AND 87SR/86SR RATIOS IN RECENT MAGMATIC ROCKS OF THE KURILE ISLAND ARC\n",
    "143ND/144ND AND 87SR/86SR RATIOS IN RECENT MAGMATIC ROCKS OF THE KURILE ISLAND ARC\n",
    "A RHYOLITE TO DACITE SEQUENCE OF VOLCANISM DIRECTLY FROM THE HEATED LOWER CRUST: LATE PLEISTOCENE TO HOLOCENE NUMAZAWA VOLCANO, NE JAPAN\n",
    "A RHYOLITE TO DACITE SEQUENCE OF VOLCANISM DIRECTLY FROM THE HEATED LOWER CRUST: LATE PLEISTOCENE TO HOLOCENE NUMAZAWA VOLCANO, NE JAPAN\n",
    "A RHYOLITE TO DACITE SEQUENCE OF VOLCANISM DIRECTLY FROM THE HEATED LOWER CRUST: LATE PLEISTOCENE TO HOLOCENE NUMAZAWA VOLCANO, NE JAPAN\n",
    "A RHYOLITE TO DACITE SEQUENCE OF VOLCANISM DIRECTLY FROM THE HEATED LOWER CRUST: LATE PLEISTOCENE TO HOLOCENE NUMAZAWA VOLCANO, NE JAPAN\n",
    "A RHYOLITE TO DACITE SEQUENCE OF VOLCANISM DIRECTLY FROM THE HEATED LOWER CRUST: LATE PLEISTOCENE TO HOLOCENE NUMAZAWA VOLCANO, NE JAPAN\n",
    "A RHYOLITE TO DACITE SEQUENCE OF VOLCANISM DIRECTLY FROM THE HEATED LOWER CRUST: LATE PLEISTOCENE TO HOLOCENE NUMAZAWA VOLCANO, NE JAPAN\n",
    "A RHYOLITE TO DACITE SEQUENCE OF VOLCANISM DIRECTLY FROM THE HEATED LOWER CRUST: LATE PLEISTOCENE TO HOLOCENE NUMAZAWA VOLCANO, NE JAPAN\n",
    "A TRIASSIC TO JURASSIC ARC IN NORTH BORNEO: GEOCHRONOLOGY, GEOCHEMISTRY, AND GENESIS OF THE SEGAMA VALLEY FELSIC INTRUSIONS AND THE SABAH OPHIOLITE\n",
    "A TRIASSIC TO JURASSIC ARC IN NORTH BORNEO: GEOCHRONOLOGY, GEOCHEMISTRY, AND GENESIS OF THE SEGAMA VALLEY FELSIC INTRUSIONS AND THE SABAH OPHIOLITE\n",
    "A TRIASSIC TO JURASSIC ARC IN NORTH BORNEO: GEOCHRONOLOGY, GEOCHEMISTRY, AND GENESIS OF THE SEGAMA VALLEY FELSIC INTRUSIONS AND THE SABAH OPHIOLITE\n",
    "A TRIASSIC TO JURASSIC ARC IN NORTH BORNEO: GEOCHRONOLOGY, GEOCHEMISTRY, AND GENESIS OF THE SEGAMA VALLEY FELSIC INTRUSIONS AND THE SABAH OPHIOLITE\n",
    "A U-SERIES STUDY OF LAVAS FROM KAMCHATKA AND THE ALEUTIANS: CONSTRAINTS ON SOURCE COMPOSITION AND MELTING PROCESSES\n",
    "A U-SERIES STUDY OF LAVAS FROM KAMCHATKA AND THE ALEUTIANS: CONSTRAINTS ON SOURCE COMPOSITION AND MELTING PROCESSES\n",
    "A U-SERIES STUDY OF LAVAS FROM KAMCHATKA AND THE ALEUTIANS: CONSTRAINTS ON SOURCE COMPOSITION AND MELTING PROCESSES\n",
    "ACROSS‐ARC DIVERSITY IN RHYOLITES FROM AN INTRA‐OCEANIC ARC: EVIDENCE FROM IODP SITE U1437, IZU‐BONIN REAR‐ARC AND SURROUNDING AREA\n",
    "ACROSS‐ARC DIVERSITY IN RHYOLITES FROM AN INTRA‐OCEANIC ARC: EVIDENCE FROM IODP SITE U1437, IZU‐BONIN REAR‐ARC AND SURROUNDING AREA\n",
    "ACROSS‐ARC DIVERSITY IN RHYOLITES FROM AN INTRA‐OCEANIC ARC: EVIDENCE FROM IODP SITE U1437, IZU‐BONIN REAR‐ARC AND SURROUNDING AREA\n",
    "ACROSS-ARC GEOCHEMICAL TRENDS IN THE IZU-BONIN ARC: CONTRIBUTIONS FROM THE SUBDUCTING SLAB\n",
    "ACROSS-ARC GEOCHEMICAL VARIATION OF QUATERNARY LAVAS IN WEST JAVA, INDONESIA: MASS-BALANCE ELUCIDATION USING ARC BASALT SIMULATOR MODEL\n",
    "ACROSS-ARC GEOCHEMICAL VARIATION OF QUATERNARY LAVAS IN WEST JAVA, INDONESIA: MASS-BALANCE ELUCIDATION USING ARC BASALT SIMULATOR MODEL\n",
    "ACROSS-ARC VARIATION OF LAVA CHEMISTRY IN THE IZU-BONIN ARC: IDENTIFICATION OF SUBDUCTION COMPONENTS\n",
    "ACROSS-ARC VARIATIONS IN MO ISOTOPES AND IMPLICATIONS FOR SUBDUCTED OCEANIC CRUST IN THE SOURCE OF BACK-ARC BASIN VOLCANIC ROCKS\n",
    "\"\"\"\n",
    "memory = {}"
   ]
  },
  {
   "cell_type": "markdown",
   "id": "a626b583",
   "metadata": {},
   "source": [
    "如果有查询的一批中有失败的，可以尝试多跑几次，已经成功的不会重复进行查询"
   ]
  },
  {
   "cell_type": "code",
   "execution_count": 4,
   "id": "2f35b074",
   "metadata": {},
   "outputs": [
    {
     "name": "stdout",
     "output_type": "stream",
     "text": [
      "https://xueshu.baidu.com/s?wd=143ND%2F144ND+AND+87SR%2F86SR+RATIOS+IN+RECENT+MAGMATIC+ROCKS+OF+THE+KURILE+ISLAND+ARC\n",
      "https://xueshu.baidu.com/u/citation?type=cite&paperid=4f38a87a6cbb0fe8469a8e6a76522da2\n",
      "https://xueshu.baidu.com/s?wd=A+RHYOLITE+TO+DACITE+SEQUENCE+OF+VOLCANISM+DIRECTLY+FROM+THE+HEATED+LOWER+CRUST%3A+LATE+PLEISTOCENE+TO+HOLOCENE+NUMAZAWA+VOLCANO%2C+NE+JAPAN\n",
      "https://xueshu.baidu.com/u/citation?type=cite&paperid=ffe55b937ebff878fa26532ff7ba9272\n",
      "https://xueshu.baidu.com/s?wd=A+TRIASSIC+TO+JURASSIC+ARC+IN+NORTH+BORNEO%3A+GEOCHRONOLOGY%2C+GEOCHEMISTRY%2C+AND+GENESIS+OF+THE+SEGAMA+VALLEY+FELSIC+INTRUSIONS+AND+THE+SABAH+OPHIOLITE\n",
      "https://xueshu.baidu.com/u/citation?type=cite&paperid=1c6m0py0e8410ty084330c00h3713658\n",
      "https://xueshu.baidu.com/s?wd=A+U-SERIES+STUDY+OF+LAVAS+FROM+KAMCHATKA+AND+THE+ALEUTIANS%3A+CONSTRAINTS+ON+SOURCE+COMPOSITION+AND+MELTING+PROCESSES\n",
      "https://xueshu.baidu.com/u/citation?type=cite&paperid=cdb012936da65c9acd813ca4714e4d7f\n",
      "https://xueshu.baidu.com/s?wd=ACROSS%E2%80%90ARC+DIVERSITY+IN+RHYOLITES+FROM+AN+INTRA%E2%80%90OCEANIC+ARC%3A+EVIDENCE+FROM+IODP+SITE+U1437%2C+IZU%E2%80%90BONIN+REAR%E2%80%90ARC+AND+SURROUNDING+AREA\n",
      "https://xueshu.baidu.com/u/citation?type=cite&paperid=1h6f0mg0b8710ej0t26g0mq0rf371191\n",
      "https://xueshu.baidu.com/s?wd=ACROSS-ARC+GEOCHEMICAL+TRENDS+IN+THE+IZU-BONIN+ARC%3A+CONTRIBUTIONS+FROM+THE+SUBDUCTING+SLAB\n",
      "https://xueshu.baidu.com/u/citation?type=cite&paperid=b35125b5b258ae1768b11fadc42a3c6c\n",
      "https://xueshu.baidu.com/s?wd=ACROSS-ARC+GEOCHEMICAL+VARIATION+OF+QUATERNARY+LAVAS+IN+WEST+JAVA%2C+INDONESIA%3A+MASS-BALANCE+ELUCIDATION+USING+ARC+BASALT+SIMULATOR+MODEL\n",
      "https://xueshu.baidu.com/u/citation?type=cite&paperid=135e0jy0cp4m08b0q70u0tj0kd521445\n",
      "https://xueshu.baidu.com/s?wd=ACROSS-ARC+VARIATION+OF+LAVA+CHEMISTRY+IN+THE+IZU-BONIN+ARC%3A+IDENTIFICATION+OF+SUBDUCTION+COMPONENTS\n",
      "https://xueshu.baidu.com/u/citation?type=cite&paperid=f2c851ab63a065f0dd72f3b77e58c8c4\n",
      "https://xueshu.baidu.com/s?wd=ACROSS-ARC+VARIATIONS+IN+MO+ISOTOPES+AND+IMPLICATIONS+FOR+SUBDUCTED+OCEANIC+CRUST+IN+THE+SOURCE+OF+BACK-ARC+BASIN+VOLCANIC+ROCKS\n",
      "https://xueshu.baidu.com/u/citation?type=cite&paperid=157t00s0p93a0rs08u6b0tv02s625664\n"
     ]
    },
    {
     "data": {
      "text/html": [
       "Zhuravlev, D. Z. ,  Tsvetkov, A. ,  Zhuravlev, Z. ,  Gladkov, N. G. , &  Chernyshev, I. V. . 43nd/144nd and 87sr/86sr ratios in recent magmatic rocks of the kurile island arc. <i>Chemical Geology Isotope Geoscience</i><i>,</i> <i>66</i>(3), 227-243.<br/>Zhuravlev, D. Z. ,  Tsvetkov, A. ,  Zhuravlev, Z. ,  Gladkov, N. G. , &  Chernyshev, I. V. . 43nd/144nd and 87sr/86sr ratios in recent magmatic rocks of the kurile island arc. <i>Chemical Geology Isotope Geoscience</i><i>,</i> <i>66</i>(3), 227-243.<br/>Yamamoto, T. . (2007). A rhyolite to dacite sequence of volcanism directly from the heated lower crust: late pleistocene to holocene numazawa volcano, ne japan. <i>Journal of Volcanology & Geothermal Research</i><i>,</i> <i>167</i>(1-4), 119-133.<br/>Yamamoto, T. . (2007). A rhyolite to dacite sequence of volcanism directly from the heated lower crust: late pleistocene to holocene numazawa volcano, ne japan. <i>Journal of Volcanology & Geothermal Research</i><i>,</i> <i>167</i>(1-4), 119-133.<br/>Yamamoto, T. . (2007). A rhyolite to dacite sequence of volcanism directly from the heated lower crust: late pleistocene to holocene numazawa volcano, ne japan. <i>Journal of Volcanology & Geothermal Research</i><i>,</i> <i>167</i>(1-4), 119-133.<br/>Yamamoto, T. . (2007). A rhyolite to dacite sequence of volcanism directly from the heated lower crust: late pleistocene to holocene numazawa volcano, ne japan. <i>Journal of Volcanology & Geothermal Research</i><i>,</i> <i>167</i>(1-4), 119-133.<br/>Yamamoto, T. . (2007). A rhyolite to dacite sequence of volcanism directly from the heated lower crust: late pleistocene to holocene numazawa volcano, ne japan. <i>Journal of Volcanology & Geothermal Research</i><i>,</i> <i>167</i>(1-4), 119-133.<br/>Yamamoto, T. . (2007). A rhyolite to dacite sequence of volcanism directly from the heated lower crust: late pleistocene to holocene numazawa volcano, ne japan. <i>Journal of Volcanology & Geothermal Research</i><i>,</i> <i>167</i>(1-4), 119-133.<br/>Yamamoto, T. . (2007). A rhyolite to dacite sequence of volcanism directly from the heated lower crust: late pleistocene to holocene numazawa volcano, ne japan. <i>Journal of Volcanology & Geothermal Research</i><i>,</i> <i>167</i>(1-4), 119-133.<br/>Burton-Johnson, A. ,  Macpherson, C. G. ,  Millar, I. L. ,  Whitehouse, M. J. , &  Nowell, G. M. . (2020). A triassic to jurassic arc in north borneo: geochronology, geochemistry, and genesis of the segama valley felsic intrusions and the sabah ophiolite. <i>Gondwana Research</i><i>,</i> <i>84</i>.<br/>Burton-Johnson, A. ,  Macpherson, C. G. ,  Millar, I. L. ,  Whitehouse, M. J. , &  Nowell, G. M. . (2020). A triassic to jurassic arc in north borneo: geochronology, geochemistry, and genesis of the segama valley felsic intrusions and the sabah ophiolite. <i>Gondwana Research</i><i>,</i> <i>84</i>.<br/>Burton-Johnson, A. ,  Macpherson, C. G. ,  Millar, I. L. ,  Whitehouse, M. J. , &  Nowell, G. M. . (2020). A triassic to jurassic arc in north borneo: geochronology, geochemistry, and genesis of the segama valley felsic intrusions and the sabah ophiolite. <i>Gondwana Research</i><i>,</i> <i>84</i>.<br/>Burton-Johnson, A. ,  Macpherson, C. G. ,  Millar, I. L. ,  Whitehouse, M. J. , &  Nowell, G. M. . (2020). A triassic to jurassic arc in north borneo: geochronology, geochemistry, and genesis of the segama valley felsic intrusions and the sabah ophiolite. <i>Gondwana Research</i><i>,</i> <i>84</i>.<br/>Turner, S. ,  Mcdermott, F. ,  Hawkesworth, C. , &  Kepezhinskas, P. . (1998). A u-series study of lavas from kamchatka and the aleutians: constraints on source composition and melting processes. <i>Contributions to Mineralogy & Petrology</i><i>,</i> <i>133</i>(3), 217-234.<br/>Turner, S. ,  Mcdermott, F. ,  Hawkesworth, C. , &  Kepezhinskas, P. . (1998). A u-series study of lavas from kamchatka and the aleutians: constraints on source composition and melting processes. <i>Contributions to Mineralogy & Petrology</i><i>,</i> <i>133</i>(3), 217-234.<br/>Turner, S. ,  Mcdermott, F. ,  Hawkesworth, C. , &  Kepezhinskas, P. . (1998). A u-series study of lavas from kamchatka and the aleutians: constraints on source composition and melting processes. <i>Contributions to Mineralogy & Petrology</i><i>,</i> <i>133</i>(3), 217-234.<br/>Heywood, L. J. ,  Debari, S. M. ,  Gill, J. B. ,  Straub, S. M. , Julie C. Schindlbeck‐Belo, & Ricardo D. Escobar‐Burciaga, et al. (2020). Across‐arc diversity in rhyolites from an intra‐oceanic arc: evidence from iodp site u1437, izu‐bonin rear arc, and surrounding area. <i>Geochemistry, Geophysics, Geosystems</i><i>,</i> <i>21</i>(2).<br/>Heywood, L. J. ,  Debari, S. M. ,  Gill, J. B. ,  Straub, S. M. , Julie C. Schindlbeck‐Belo, & Ricardo D. Escobar‐Burciaga, et al. (2020). Across‐arc diversity in rhyolites from an intra‐oceanic arc: evidence from iodp site u1437, izu‐bonin rear arc, and surrounding area. <i>Geochemistry, Geophysics, Geosystems</i><i>,</i> <i>21</i>(2).<br/>Heywood, L. J. ,  Debari, S. M. ,  Gill, J. B. ,  Straub, S. M. , Julie C. Schindlbeck‐Belo, & Ricardo D. Escobar‐Burciaga, et al. (2020). Across‐arc diversity in rhyolites from an intra‐oceanic arc: evidence from iodp site u1437, izu‐bonin rear arc, and surrounding area. <i>Geochemistry, Geophysics, Geosystems</i><i>,</i> <i>21</i>(2).<br/>Hochstaedter, A. G. ,  Gill, J. B. ,  Taylor, B. ,  Ishizuka, O. ,  Yuasa, M. , &  Monta, S. . (2000). Across‐arc geochemical trends in the izu‐bonin arc: constraints on source composition and mantle melting. <i>Journal of Geophysical Research: Solid Earth</i><i>,</i> <i>105</i>.<br/>Sendjaja, Y. A. ,  Kimura, J. , &  Sunardi, E. . (2009). Across‐arc geochemical variation of quaternary lavas in west java, indonesia: mass‐balance elucidation using arc basalt simulator model. <i>Island Arc</i><i>,</i> <i>18</i>.<br/>Sendjaja, Y. A. ,  Kimura, J. , &  Sunardi, E. . (2009). Across‐arc geochemical variation of quaternary lavas in west java, indonesia: mass‐balance elucidation using arc basalt simulator model. <i>Island Arc</i><i>,</i> <i>18</i>.<br/>A, Y. T. ,  A, M. M. , &  B, S. N. . (1992). Across-arc variation of lava chemistry in the izu-bonin arc: identification of subduction components. <i>Journal of Volcanology and Geothermal Research</i><i>,</i> <i>49</i>( 3–4), 179-190.<br/>Li, X. ,  Yan, Q. ,  Zeng, Z. ,  Fan, J. , &  Wang, X. . (2021). Across-arc variations in mo isotopes and implications for subducted oceanic crust in the source of back-arc basin volcanic rocks. <i>Geology</i>.<br/>"
      ],
      "text/plain": [
       "<IPython.core.display.HTML object>"
      ]
     },
     "execution_count": 4,
     "metadata": {},
     "output_type": "execute_result"
    }
   ],
   "source": [
    "out = \"\"\n",
    "for line in titles.split('\\n'):\n",
    "    title = line.strip()\n",
    "    if \"\" == title:\n",
    "        continue\n",
    "    if title in memory:\n",
    "        apa = memory[title]\n",
    "    else:\n",
    "        apa = query_baidu_xueshu(title)\n",
    "        memory[title] = apa\n",
    "        time.sleep(1)\n",
    "    \n",
    "    out += f'{apa}<br/>'\n",
    "    \n",
    "HTML(out)"
   ]
  },
  {
   "cell_type": "markdown",
   "id": "47bf5b73",
   "metadata": {},
   "source": []
  }
 ],
 "metadata": {
  "kernelspec": {
   "display_name": "Python 3 (ipykernel)",
   "language": "python",
   "name": "python3"
  },
  "language_info": {
   "codemirror_mode": {
    "name": "ipython",
    "version": 3
   },
   "file_extension": ".py",
   "mimetype": "text/x-python",
   "name": "python",
   "nbconvert_exporter": "python",
   "pygments_lexer": "ipython3",
   "version": "3.8.5"
  }
 },
 "nbformat": 4,
 "nbformat_minor": 5
}
